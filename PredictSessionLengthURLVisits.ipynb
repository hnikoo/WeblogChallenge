{
 "cells": [
  {
   "cell_type": "code",
   "execution_count": 3,
   "metadata": {},
   "outputs": [
    {
     "name": "stdout",
     "output_type": "stream",
     "text": [
      "+--------------------+\n",
      "|avg(SessionDuration)|\n",
      "+--------------------+\n",
      "|  141.58578161415625|\n",
      "+--------------------+\n",
      "\n"
     ]
    }
   ],
   "source": [
    "from pyspark.sql import SparkSession\n",
    "\n",
    "# Build the SparkSession\n",
    "spark = SparkSession.builder \\\n",
    "    .master(\"local\") \\\n",
    "    .appName(\"Predict Session Length for given IP\") \\\n",
    "    .config(\"spark.executor.memory\", \"1gb\") \\\n",
    "    .getOrCreate()\n",
    "sc = spark.sparkContext\n",
    "\n",
    "# Load the data by creating rdd\n",
    "rdd = sc.textFile('/home/hassan/Side_Projects/WeblogChallenge/data/2015_07_22_mktplace_shop_web_log_sample.log')\n",
    "# split the data into columns\n",
    "rdd = rdd.map(lambda line: line.split(\" \"))\n",
    "\n",
    "# ====================================\n",
    "# Manipulating data\n",
    "# ====================================\n",
    "from pyspark.sql import Row\n",
    "from pyspark.sql.types import *\n",
    "from pyspark.sql.functions import *\n",
    "\n",
    "#Map the RDD to a DF for better performance\n",
    "mainDF = rdd.map(lambda line: Row(timestamp=line[0], ipaddress=line[2].split(':')[0],url=line[12])).toDF()\n",
    "# convert timestamps from string to timestamp datatype\n",
    "mainDF = mainDF.withColumn('timestamp', mainDF['timestamp'].cast(TimestampType()))\n",
    "# sessionizing data based on 15 min fixed window time\n",
    "# assign an Id to each session\n",
    "SessionDF = mainDF.select(window(\"timestamp\", \"15 minutes\").alias('FixedTimeWindow'),'timestamp',\"ipaddress\").groupBy('FixedTimeWindow','ipaddress').count().withColumnRenamed('count', 'NumberHitsInSessionForIp')\n",
    "SessionDF = SessionDF.withColumn(\"SessionId\", monotonically_increasing_id())\n",
    "# join the time stamps and url to the Sessionized DF\n",
    "dfWithTimeStamps = mainDF.select(window(\"timestamp\", \"15 minutes\").alias('FixedTimeWindow'),'timestamp',\"ipaddress\",\"url\")\n",
    "SessionDF = dfWithTimeStamps.join(SessionDF,['FixedTimeWindow','ipaddress'])\n",
    "# Finding the first hit time of each ip for each session and join in to our session df\n",
    "FirstHitTimeStamps = SessionDF.groupBy(\"SessionId\").agg(min(\"timestamp\").alias('FristHitTime'))\n",
    "SessionDF = FirstHitTimeStamps.join(SessionDF,['SessionId'])\n",
    "timeDiff = (unix_timestamp(SessionDF.timestamp)-unix_timestamp(SessionDF.FristHitTime))\n",
    "SessionDF = SessionDF.withColumn(\"timeDiffwithFirstHit\", timeDiff)\n",
    "tmpdf = SessionDF.groupBy(\"SessionId\").agg(max(\"timeDiffwithFirstHit\").alias(\"SessionDuration\"))\n",
    "SessionDF = SessionDF.join(tmpdf,['SessionId'])\n",
    "\n",
    "\n",
    "# for any given IP if we don't have any previous log from that IP\n",
    "# the prediction for it's session length is the average session length\n",
    "meandf = SessionDF.groupBy().avg('SessionDuration')\n",
    "meandf.show()\n"
   ]
  },
  {
   "cell_type": "code",
   "execution_count": 4,
   "metadata": {},
   "outputs": [
    {
     "name": "stdout",
     "output_type": "stream",
     "text": [
      "+---------------+---------------------------+\n",
      "|      ipaddress|AverageSessionDurationForIP|\n",
      "+---------------+---------------------------+\n",
      "|   27.62.30.188|                       33.0|\n",
      "|  120.63.59.185|                        0.0|\n",
      "|  115.69.247.81|                       30.0|\n",
      "|  59.95.113.108|                       10.0|\n",
      "|122.175.225.152|         226.57692307692307|\n",
      "|   14.139.60.13|                        0.0|\n",
      "|117.232.164.217|                        1.5|\n",
      "| 59.160.110.163|                      165.5|\n",
      "| 101.62.250.135|                       27.0|\n",
      "| 107.167.99.177|                       53.0|\n",
      "| 121.246.85.180|                        4.0|\n",
      "|  14.98.247.140|                        5.0|\n",
      "|    1.23.208.26|         10.833333333333334|\n",
      "|  59.177.37.135|                        0.0|\n",
      "|122.175.153.217|                        0.0|\n",
      "| 223.176.174.84|                        2.0|\n",
      "| 223.225.252.41|                      118.0|\n",
      "|122.181.181.211|                      173.0|\n",
      "|   103.15.63.34|         46.666666666666664|\n",
      "|123.238.121.215|                        3.0|\n",
      "+---------------+---------------------------+\n",
      "only showing top 20 rows\n",
      "\n"
     ]
    }
   ],
   "source": [
    "# if the given ip has a record in the following table\n",
    "# the prediction for it's session length is the it's previous session's average\n",
    "meanSessionIP = SessionDF.groupBy(\"ipaddress\").agg(avg(\"SessionDuration\").alias('AverageSessionDurationForIP'))\n",
    "meanSessionIP.show(20)"
   ]
  },
  {
   "cell_type": "code",
   "execution_count": 6,
   "metadata": {},
   "outputs": [
    {
     "name": "stdout",
     "output_type": "stream",
     "text": [
      "+------------------+\n",
      "|        avg(count)|\n",
      "+------------------+\n",
      "|1.3430700599135612|\n",
      "+------------------+\n",
      "\n"
     ]
    }
   ],
   "source": [
    "# For Predicting the number of unique url visits for a given IP\n",
    "# again if we don't have the IP in our logs, the predicted value is the\n",
    "# average unique url visit by any IP\n",
    "SessionDF.groupBy(\"ipaddress\",\"url\").count().distinct().groupBy().agg(avg(\"count\")).show()"
   ]
  },
  {
   "cell_type": "code",
   "execution_count": 8,
   "metadata": {},
   "outputs": [
    {
     "name": "stdout",
     "output_type": "stream",
     "text": [
      "+---------------+------------------+\n",
      "|      ipaddress|        avg(count)|\n",
      "+---------------+------------------+\n",
      "| 59.160.110.163|1.4285714285714286|\n",
      "| 117.241.152.20|1.5588235294117647|\n",
      "|  202.174.92.10|               1.0|\n",
      "|  61.16.142.162|            1.0625|\n",
      "| 117.205.39.248|            1.3125|\n",
      "|117.203.181.144|               1.0|\n",
      "|115.112.250.108|               1.0|\n",
      "|  202.53.89.132|1.2272727272727273|\n",
      "| 117.247.188.13|               1.0|\n",
      "|  14.139.82.134|2.0555555555555554|\n",
      "|   120.61.47.36|1.1428571428571428|\n",
      "|   27.63.186.72|               1.0|\n",
      "| 113.193.114.25|               1.0|\n",
      "|123.136.182.137|               1.2|\n",
      "|  27.34.244.251|1.1696428571428572|\n",
      "| 124.125.22.218|               1.0|\n",
      "| 117.207.97.173|               1.0|\n",
      "|   61.0.225.164|1.3333333333333333|\n",
      "|117.218.161.174|1.4210526315789473|\n",
      "|   61.2.172.171|               1.0|\n",
      "+---------------+------------------+\n",
      "only showing top 20 rows\n",
      "\n"
     ]
    }
   ],
   "source": [
    "# if we have the give ip in the records\n",
    "# we can find the average previous unique url visits of that IP in the following table\n",
    "SessionDF.groupBy(\"ipaddress\",\"url\").count().distinct().groupBy(\"ipaddress\").agg(avg(\"count\")).show()"
   ]
  },
  {
   "cell_type": "code",
   "execution_count": null,
   "metadata": {
    "collapsed": true
   },
   "outputs": [],
   "source": []
  }
 ],
 "metadata": {
  "kernelspec": {
   "display_name": "Python 2",
   "language": "python",
   "name": "python2"
  },
  "language_info": {
   "codemirror_mode": {
    "name": "ipython",
    "version": 2
   },
   "file_extension": ".py",
   "mimetype": "text/x-python",
   "name": "python",
   "nbconvert_exporter": "python",
   "pygments_lexer": "ipython2",
   "version": "2.7.6"
  }
 },
 "nbformat": 4,
 "nbformat_minor": 2
}
