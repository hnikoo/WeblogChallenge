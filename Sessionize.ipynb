{
 "cells": [
  {
   "cell_type": "code",
   "execution_count": 1,
   "metadata": {
    "collapsed": true
   },
   "outputs": [],
   "source": [
    "from pyspark.sql import SparkSession\n",
    "\n",
    "# Build the SparkSession\n",
    "spark = SparkSession.builder \\\n",
    "    .master(\"local\") \\\n",
    "    .appName(\"Sessionize IP addresses\") \\\n",
    "    .config(\"spark.executor.memory\", \"1gb\") \\\n",
    "    .getOrCreate()\n",
    "sc = spark.sparkContext"
   ]
  },
  {
   "cell_type": "code",
   "execution_count": 2,
   "metadata": {
    "collapsed": true
   },
   "outputs": [],
   "source": [
    "# Load the data by creating rdd\n",
    "rdd = sc.textFile('/home/hassan/Side_Projects/WeblogChallenge/data/2015_07_22_mktplace_shop_web_log_sample.log')\n",
    "# split the data into columns\n",
    "rdd = rdd.map(lambda line: line.split(\" \"))\n"
   ]
  },
  {
   "cell_type": "code",
   "execution_count": 3,
   "metadata": {},
   "outputs": [
    {
     "name": "stdout",
     "output_type": "stream",
     "text": [
      "+---------------+--------------------+--------------------+\n",
      "|      ipaddress|           timestamp|                 url|\n",
      "+---------------+--------------------+--------------------+\n",
      "|123.242.248.130|2015-07-22T09:00:...|https://paytm.com...|\n",
      "|  203.91.211.44|2015-07-22T09:00:...|https://paytm.com...|\n",
      "|    1.39.32.179|2015-07-22T09:00:...|https://paytm.com...|\n",
      "| 180.179.213.94|2015-07-22T09:00:...|https://paytm.com...|\n",
      "| 120.59.192.208|2015-07-22T09:00:...|https://paytm.com...|\n",
      "| 117.239.195.66|2015-07-22T09:00:...|https://paytm.com...|\n",
      "|  101.60.186.26|2015-07-22T09:00:...|https://paytm.com...|\n",
      "|   59.183.41.47|2015-07-22T09:00:...|https://paytm.com...|\n",
      "| 117.239.195.66|2015-07-22T09:00:...|https://paytm.com...|\n",
      "|  183.83.237.83|2015-07-22T09:00:...|https://paytm.com...|\n",
      "|  117.195.91.36|2015-07-22T09:00:...|https://paytm.com...|\n",
      "|122.180.245.251|2015-07-22T09:00:...|https://paytm.com...|\n",
      "| 117.198.215.20|2015-07-22T09:00:...|https://paytm.com...|\n",
      "| 223.176.154.91|2015-07-22T09:00:...|https://paytm.com...|\n",
      "|223.225.236.110|2015-07-22T09:00:...|https://paytm.com...|\n",
      "| 117.241.97.140|2015-07-22T09:00:...|https://paytm.com...|\n",
      "|117.205.247.140|2015-07-22T09:00:...|https://paytm.com...|\n",
      "|   14.102.53.58|2015-07-22T09:00:...|https://paytm.com...|\n",
      "|  203.200.99.67|2015-07-22T09:00:...|https://paytm.com...|\n",
      "|107.167.109.204|2015-07-22T09:00:...|https://paytm.com...|\n",
      "+---------------+--------------------+--------------------+\n",
      "only showing top 20 rows\n",
      "\n"
     ]
    }
   ],
   "source": [
    "# ====================================\n",
    "# Manipulating data\n",
    "# ====================================\n",
    "from pyspark.sql import Row\n",
    "from pyspark.sql.types import *\n",
    "from pyspark.sql.functions import *\n",
    "\n",
    "#Map the RDD to a DF for better performance\n",
    "mainDF = rdd.map(lambda line: Row(timestamp=line[0], ipaddress=line[2].split(':')[0],url=line[12])).toDF()\n",
    "mainDF.show(20)\n"
   ]
  },
  {
   "cell_type": "code",
   "execution_count": 4,
   "metadata": {
    "collapsed": true
   },
   "outputs": [],
   "source": [
    "# convert timestamps from string to timestamp datatype\n",
    "mainDF = mainDF.withColumn('timestamp', mainDF['timestamp'].cast(TimestampType()))"
   ]
  },
  {
   "cell_type": "code",
   "execution_count": 5,
   "metadata": {},
   "outputs": [
    {
     "name": "stdout",
     "output_type": "stream",
     "text": [
      "+---------------------------------------------+---------------+------------------------+---------+\n",
      "|FixedTimeWindow                              |ipaddress      |NumberHitsInSessionForIp|SessionId|\n",
      "+---------------------------------------------+---------------+------------------------+---------+\n",
      "|[2015-07-22 05:00:00.0,2015-07-22 05:15:00.0]|1.38.17.231    |14                      |0        |\n",
      "|[2015-07-22 05:00:00.0,2015-07-22 05:15:00.0]|161.51.16.10   |1                       |1        |\n",
      "|[2015-07-22 05:00:00.0,2015-07-22 05:15:00.0]|117.213.93.103 |3                       |2        |\n",
      "|[2015-07-22 05:00:00.0,2015-07-22 05:15:00.0]|165.225.104.65 |35                      |3        |\n",
      "|[2015-07-22 05:00:00.0,2015-07-22 05:15:00.0]|1.39.46.218    |7                       |4        |\n",
      "|[2015-07-22 05:00:00.0,2015-07-22 05:15:00.0]|122.160.168.148|2                       |5        |\n",
      "|[2015-07-22 05:00:00.0,2015-07-22 05:15:00.0]|106.219.13.17  |2                       |6        |\n",
      "|[2015-07-22 05:00:00.0,2015-07-22 05:15:00.0]|106.76.90.62   |14                      |7        |\n",
      "|[2015-07-22 05:00:00.0,2015-07-22 05:15:00.0]|182.74.140.218 |2                       |8        |\n",
      "|[2015-07-22 05:00:00.0,2015-07-22 05:15:00.0]|117.237.13.128 |10                      |9        |\n",
      "|[2015-07-22 05:00:00.0,2015-07-22 05:15:00.0]|49.14.48.156   |1                       |10       |\n",
      "|[2015-07-22 05:00:00.0,2015-07-22 05:15:00.0]|125.16.14.134  |4                       |11       |\n",
      "|[2015-07-22 05:00:00.0,2015-07-22 05:15:00.0]|120.60.31.116  |3                       |12       |\n",
      "|[2015-07-22 05:00:00.0,2015-07-22 05:15:00.0]|183.82.99.148  |102                     |13       |\n",
      "|[2015-07-22 05:00:00.0,2015-07-22 05:15:00.0]|117.242.229.95 |3                       |14       |\n",
      "|[2015-07-22 05:00:00.0,2015-07-22 05:15:00.0]|117.203.165.166|4                       |15       |\n",
      "|[2015-07-22 05:00:00.0,2015-07-22 05:15:00.0]|182.75.0.219   |1                       |16       |\n",
      "|[2015-07-22 05:00:00.0,2015-07-22 05:15:00.0]|90.216.134.197 |2                       |17       |\n",
      "|[2015-07-22 05:00:00.0,2015-07-22 05:15:00.0]|115.117.83.101 |9                       |18       |\n",
      "|[2015-07-22 05:00:00.0,2015-07-22 05:15:00.0]|119.235.48.219 |3                       |19       |\n",
      "+---------------------------------------------+---------------+------------------------+---------+\n",
      "only showing top 20 rows\n",
      "\n"
     ]
    }
   ],
   "source": [
    "# sessionizing data based on 15 min fixed window time\n",
    "# assign an Id to each session\n",
    "SessionDF = mainDF.select(window(\"timestamp\", \"15 minutes\").alias('FixedTimeWindow'),'timestamp',\"ipaddress\").groupBy('FixedTimeWindow','ipaddress').count().withColumnRenamed('count', 'NumberHitsInSessionForIp')\n",
    "SessionDF = SessionDF.withColumn(\"SessionId\", monotonically_increasing_id())\n",
    "SessionDF.show(20,False)\n"
   ]
  },
  {
   "cell_type": "code",
   "execution_count": 6,
   "metadata": {},
   "outputs": [
    {
     "name": "stdout",
     "output_type": "stream",
     "text": [
      "+--------------------+---------------+--------------------+--------------------+------------------------+---------+\n",
      "|     FixedTimeWindow|      ipaddress|           timestamp|                 url|NumberHitsInSessionForIp|SessionId|\n",
      "+--------------------+---------------+--------------------+--------------------+------------------------+---------+\n",
      "|[2015-07-21 22:30...|  106.51.141.73|2015-07-21 22:44:...|https://paytm.com...|                       1|      217|\n",
      "|[2015-07-21 22:30...|107.167.109.115|2015-07-21 22:43:...|http://www.paytm....|                       1|      211|\n",
      "|[2015-07-21 22:30...|113.193.203.163|2015-07-21 22:41:...|https://paytm.com...|                       1|      205|\n",
      "|[2015-07-21 22:30...|  115.184.19.68|2015-07-21 22:43:...|https://paytm.com...|                       1|      209|\n",
      "|[2015-07-21 22:30...|  115.250.103.3|2015-07-21 22:44:...|https://paytm.com...|                       3|      215|\n",
      "|[2015-07-21 22:30...|  115.250.103.3|2015-07-21 22:44:...|https://paytm.com...|                       3|      215|\n",
      "|[2015-07-21 22:30...|  115.250.103.3|2015-07-21 22:44:...|https://paytm.com...|                       3|      215|\n",
      "|[2015-07-21 22:30...|116.203.129.121|2015-07-21 22:43:...|https://paytm.com...|                       5|      212|\n",
      "|[2015-07-21 22:30...|116.203.129.121|2015-07-21 22:43:...|https://paytm.com...|                       5|      212|\n",
      "|[2015-07-21 22:30...|116.203.129.121|2015-07-21 22:43:...|https://www.paytm...|                       5|      212|\n",
      "|[2015-07-21 22:30...|116.203.129.121|2015-07-21 22:43:...|https://paytm.com...|                       5|      212|\n",
      "|[2015-07-21 22:30...|116.203.129.121|2015-07-21 22:43:...|https://paytm.com...|                       5|      212|\n",
      "|[2015-07-21 22:30...|  117.198.45.19|2015-07-21 22:44:...|https://paytm.com...|                       3|      213|\n",
      "|[2015-07-21 22:30...|  117.198.45.19|2015-07-21 22:44:...|https://paytm.com...|                       3|      213|\n",
      "|[2015-07-21 22:30...|  117.198.45.19|2015-07-21 22:44:...|https://paytm.com...|                       3|      213|\n",
      "|[2015-07-21 22:30...|117.199.132.124|2015-07-21 22:43:...|https://paytm.com...|                       1|      210|\n",
      "|[2015-07-21 22:30...|117.253.213.104|2015-07-21 22:43:...|https://paytm.com...|                       2|      208|\n",
      "|[2015-07-21 22:30...|117.253.213.104|2015-07-21 22:44:...|https://paytm.com...|                       2|      208|\n",
      "|[2015-07-21 22:30...|  120.60.191.85|2015-07-21 22:41:...|http://paytm.com:...|                       5|      204|\n",
      "|[2015-07-21 22:30...|  120.60.191.85|2015-07-21 22:41:...|https://paytm.com...|                       5|      204|\n",
      "+--------------------+---------------+--------------------+--------------------+------------------------+---------+\n",
      "only showing top 20 rows\n",
      "\n"
     ]
    }
   ],
   "source": [
    "# join the time stamps and url to the Sessionized DF\n",
    "dfWithTimeStamps = mainDF.select(window(\"timestamp\", \"15 minutes\").alias('FixedTimeWindow'),'timestamp',\"ipaddress\",\"url\")\n",
    "SessionDF = dfWithTimeStamps.join(SessionDF,['FixedTimeWindow','ipaddress'])\n",
    "SessionDF.show(20)\n"
   ]
  },
  {
   "cell_type": "code",
   "execution_count": 8,
   "metadata": {
    "scrolled": false
   },
   "outputs": [
    {
     "name": "stdout",
     "output_type": "stream",
     "text": [
      "+---------+--------------+--------------------+\n",
      "|SessionId|     ipaddress|        FristHitTime|\n",
      "+---------+--------------+--------------------+\n",
      "|       26|  218.248.82.9|2015-07-22 05:02:...|\n",
      "|       26|  218.248.82.9|2015-07-22 05:02:...|\n",
      "|       26|  218.248.82.9|2015-07-22 05:02:...|\n",
      "|       26|  218.248.82.9|2015-07-22 05:02:...|\n",
      "|       29|  27.62.30.188|2015-07-22 05:02:...|\n",
      "|       29|  27.62.30.188|2015-07-22 05:02:...|\n",
      "|       29|  27.62.30.188|2015-07-22 05:02:...|\n",
      "|       29|  27.62.30.188|2015-07-22 05:02:...|\n",
      "|      474|101.221.128.95|2015-07-22 06:35:...|\n",
      "|      474|101.221.128.95|2015-07-22 06:35:...|\n",
      "|      474|101.221.128.95|2015-07-22 06:35:...|\n",
      "|      474|101.221.128.95|2015-07-22 06:35:...|\n",
      "|      474|101.221.128.95|2015-07-22 06:35:...|\n",
      "|      474|101.221.128.95|2015-07-22 06:35:...|\n",
      "|      474|101.221.128.95|2015-07-22 06:35:...|\n",
      "|      474|101.221.128.95|2015-07-22 06:35:...|\n",
      "|      474|101.221.128.95|2015-07-22 06:35:...|\n",
      "|      474|101.221.128.95|2015-07-22 06:35:...|\n",
      "|      474|101.221.128.95|2015-07-22 06:35:...|\n",
      "|      474|101.221.128.95|2015-07-22 06:35:...|\n",
      "+---------+--------------+--------------------+\n",
      "only showing top 20 rows\n",
      "\n"
     ]
    }
   ],
   "source": [
    "# Finding the first hit time of each ip for each session and join in to our session df\n",
    "FirstHitTimeStamps = SessionDF.groupBy(\"SessionId\").agg(min(\"timestamp\").alias('FristHitTime'))\n",
    "SessionDF = FirstHitTimeStamps.join(SessionDF,['SessionId'])\n",
    "SessionDF.select(col(\"SessionId\"),col(\"ipaddress\"),col(\"FristHitTime\")).show(20)"
   ]
  },
  {
   "cell_type": "code",
   "execution_count": 9,
   "metadata": {},
   "outputs": [
    {
     "name": "stdout",
     "output_type": "stream",
     "text": [
      "+---------+--------------+---------------+\n",
      "|SessionId|     ipaddress|SessionDuration|\n",
      "+---------+--------------+---------------+\n",
      "|       26|  218.248.82.9|             13|\n",
      "|       26|  218.248.82.9|             13|\n",
      "|       26|  218.248.82.9|             13|\n",
      "|       26|  218.248.82.9|             13|\n",
      "|       29|  27.62.30.188|             33|\n",
      "|       29|  27.62.30.188|             33|\n",
      "|       29|  27.62.30.188|             33|\n",
      "|       29|  27.62.30.188|             33|\n",
      "|      474|101.221.128.95|            226|\n",
      "|      474|101.221.128.95|            226|\n",
      "|      474|101.221.128.95|            226|\n",
      "|      474|101.221.128.95|            226|\n",
      "|      474|101.221.128.95|            226|\n",
      "|      474|101.221.128.95|            226|\n",
      "|      474|101.221.128.95|            226|\n",
      "|      474|101.221.128.95|            226|\n",
      "|      474|101.221.128.95|            226|\n",
      "|      474|101.221.128.95|            226|\n",
      "|      474|101.221.128.95|            226|\n",
      "|      474|101.221.128.95|            226|\n",
      "+---------+--------------+---------------+\n",
      "only showing top 20 rows\n",
      "\n"
     ]
    }
   ],
   "source": [
    "#2. Determine the average session time\n",
    "# Among all the hits in a session the last one has the max diff with first hit\n",
    "# we define the time difference of first and last hit in a session to be the duration of a session for an ip\n",
    "# if there is only one hit in a session the duration is zero\n",
    "timeDiff = (unix_timestamp(SessionDF.timestamp)-unix_timestamp(SessionDF.FristHitTime))\n",
    "SessionDF = SessionDF.withColumn(\"timeDiffwithFirstHit\", timeDiff)\n",
    "tmpdf = SessionDF.groupBy(\"SessionId\").agg(max(\"timeDiffwithFirstHit\").alias(\"SessionDuration\"))\n",
    "SessionDF = SessionDF.join(tmpdf,['SessionId'])\n",
    "SessionDF.select(col(\"SessionId\"),col(\"ipaddress\"),col(\"SessionDuration\")).show(20)\n"
   ]
  },
  {
   "cell_type": "code",
   "execution_count": null,
   "metadata": {},
   "outputs": [],
   "source": [
    "# showing the mean session duration\n",
    "# the printed number is secconds\n",
    "meandf = SessionDF.groupBy().avg('SessionDuration')\n",
    "meandf.show()"
   ]
  },
  {
   "cell_type": "code",
   "execution_count": 36,
   "metadata": {},
   "outputs": [
    {
     "name": "stdout",
     "output_type": "stream",
     "text": [
      "+----------+--------------------+-----------+\n",
      "| SessionId|                 URL|hitURLcount|\n",
      "+----------+--------------------+-----------+\n",
      "|        26|https://paytm.com...|          2|\n",
      "|        26|http://www.paytm....|          2|\n",
      "|        29|https://paytm.com...|          1|\n",
      "|        29|https://paytm.com...|          1|\n",
      "|        29|https://paytm.com...|          1|\n",
      "|        29|https://paytm.com...|          1|\n",
      "|       474|https://paytm.com...|          2|\n",
      "|       474|https://paytm.com...|          2|\n",
      "|       474|https://paytm.com...|          2|\n",
      "|       474|https://paytm.com...|          5|\n",
      "|       474|https://paytm.com...|          3|\n",
      "|       474|https://paytm.com...|          2|\n",
      "|       474|https://paytm.com...|          1|\n",
      "|       474|https://paytm.com...|          1|\n",
      "|       474|https://paytm.com...|          1|\n",
      "|       474|https://paytm.com...|          1|\n",
      "|8589934658|https://paytm.com...|          1|\n",
      "|8589934965|https://paytm.com...|          1|\n",
      "|8589934965|https://paytm.com...|          1|\n",
      "|8589935171|https://paytm.com...|          1|\n",
      "+----------+--------------------+-----------+\n",
      "only showing top 20 rows\n",
      "\n"
     ]
    }
   ],
   "source": [
    "#3. Determine unique URL visits per session. To clarify, count a hit to a unique URL only once per session\n",
    "dfURL = SessionDF.groupBy(\"SessionId\",\"URL\").count().distinct().withColumnRenamed('count', 'hitURLcount')\n",
    "dfURL.show(20)"
   ]
  },
  {
   "cell_type": "code",
   "execution_count": 37,
   "metadata": {},
   "outputs": [
    {
     "name": "stdout",
     "output_type": "stream",
     "text": [
      "+--------------+------------+---------------+\n",
      "|     ipaddress|   SessionID|SessionDuration|\n",
      "+--------------+------------+---------------+\n",
      "|164.100.96.254|249108103236|            847|\n",
      "|111.119.199.22|283467841590|            839|\n",
      "+--------------+------------+---------------+\n",
      "only showing top 2 rows\n",
      "\n"
     ]
    }
   ],
   "source": [
    "#4. Find the most engaged users, ie the IPs with the longest session times\n",
    "EngagedUsers = SessionDF.select(\"ipaddress\",\"SessionID\",\"SessionDuration\").sort(col(\"SessionDuration\").desc()).distinct()\n",
    "EngagedUsers.show(2)"
   ]
  },
  {
   "cell_type": "code",
   "execution_count": null,
   "metadata": {
    "collapsed": true
   },
   "outputs": [],
   "source": []
  }
 ],
 "metadata": {
  "kernelspec": {
   "display_name": "Python 2",
   "language": "python",
   "name": "python2"
  },
  "language_info": {
   "codemirror_mode": {
    "name": "ipython",
    "version": 2
   },
   "file_extension": ".py",
   "mimetype": "text/x-python",
   "name": "python",
   "nbconvert_exporter": "python",
   "pygments_lexer": "ipython2",
   "version": "2.7.6"
  }
 },
 "nbformat": 4,
 "nbformat_minor": 2
}
