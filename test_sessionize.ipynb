{
 "cells": [
  {
   "cell_type": "code",
   "execution_count": 2,
   "metadata": {},
   "outputs": [
    {
     "name": "stdout",
     "output_type": "stream",
     "text": [
      "+---------+---------------------------+\n",
      "|ipaddress|timestamp                  |\n",
      "+---------+---------------------------+\n",
      "|0.0.0.130|2015-07-22T09:00:28.019143Z|\n",
      "|0.0.0.130|2015-07-22T09:00:29.019143Z|\n",
      "|0.0.0.130|2015-07-22T09:05:28.019143Z|\n",
      "|0.0.0.130|2015-07-22T09:10:28.019143Z|\n",
      "|1.0.0.130|2015-07-22T09:00:28.019143Z|\n",
      "|1.0.0.130|2015-07-22T09:00:29.019143Z|\n",
      "|1.0.0.130|2015-07-22T09:10:28.019143Z|\n",
      "+---------+---------------------------+\n",
      "\n"
     ]
    }
   ],
   "source": [
    "from pyspark.sql import SparkSession\n",
    "\n",
    "# Build the SparkSession\n",
    "spark = SparkSession.builder \\\n",
    "    .master(\"local\") \\\n",
    "    .appName(\"Sessionize test\") \\\n",
    "    .config(\"spark.executor.memory\", \"1gb\") \\\n",
    "    .getOrCreate()\n",
    "sc = spark.sparkContext\n",
    "# Load the data by creating rdd\n",
    "rdd = sc.textFile('/home/hassan/Side_Projects/WeblogChallenge/test.log')\n",
    "# split the data into columns\n",
    "rdd = rdd.map(lambda line: line.split(\" \"))\n",
    "# ====================================\n",
    "# Manipulating data\n",
    "# ====================================\n",
    "from pyspark.sql import Row\n",
    "from pyspark.sql.types import *\n",
    "from pyspark.sql.functions import *\n",
    "\n",
    "#Map the RDD to a DF for better performance\n",
    "mainDF = rdd.map(lambda line: Row(timestamp=line[0], ipaddress=line[1].split(':')[0])).toDF()\n",
    "mainDF.show(20,False)"
   ]
  },
  {
   "cell_type": "code",
   "execution_count": 4,
   "metadata": {},
   "outputs": [
    {
     "name": "stdout",
     "output_type": "stream",
     "text": [
      "+---------------------------------------------+---------+------------------------+-------------+\n",
      "|FixedTimeWindow                              |ipaddress|NumberHitsInSessionForIp|SessionId    |\n",
      "+---------------------------------------------+---------+------------------------+-------------+\n",
      "|[2015-07-22 05:05:00.0,2015-07-22 05:10:00.0]|0.0.0.130|1                       |128849018880 |\n",
      "|[2015-07-22 05:00:00.0,2015-07-22 05:05:00.0]|1.0.0.130|2                       |326417514496 |\n",
      "|[2015-07-22 05:10:00.0,2015-07-22 05:15:00.0]|0.0.0.130|1                       |360777252864 |\n",
      "|[2015-07-22 05:00:00.0,2015-07-22 05:05:00.0]|0.0.0.130|2                       |575525617664 |\n",
      "|[2015-07-22 05:10:00.0,2015-07-22 05:15:00.0]|1.0.0.130|1                       |1159641169920|\n",
      "+---------------------------------------------+---------+------------------------+-------------+\n",
      "\n"
     ]
    }
   ],
   "source": [
    "# convert timestamps from string to timestamp datatype\n",
    "mainDF = mainDF.withColumn('timestamp', mainDF['timestamp'].cast(TimestampType()))\n",
    "\n",
    "\n",
    "# sessionizing data based on 5 min fixed window time\n",
    "# assign an Id to each session\n",
    "SessionDF = mainDF.select(window(\"timestamp\", \"5 minutes\").alias('FixedTimeWindow'),'timestamp',\"ipaddress\").groupBy('FixedTimeWindow','ipaddress').count().withColumnRenamed('count', 'NumberHitsInSessionForIp')\n",
    "SessionDF = SessionDF.withColumn(\"SessionId\", monotonically_increasing_id())\n",
    "SessionDF.show(20,False)\n"
   ]
  },
  {
   "cell_type": "code",
   "execution_count": null,
   "metadata": {
    "collapsed": true
   },
   "outputs": [],
   "source": []
  }
 ],
 "metadata": {
  "kernelspec": {
   "display_name": "Python 2",
   "language": "python",
   "name": "python2"
  }
 },
 "nbformat": 4,
 "nbformat_minor": 2
}
